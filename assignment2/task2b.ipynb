{
 "cells": [
  {
   "cell_type": "code",
   "execution_count": 1,
   "metadata": {},
   "outputs": [],
   "source": [
    "import torch\n",
    "import matplotlib.pyplot as plt\n",
    "import tqdm\n",
    "import utils\n",
    "import dataloaders\n",
    "import numpy as np\n",
    "import torchvision\n",
    "import os\n",
    "from trainer import Trainer\n",
    "torch.random.manual_seed(0)\n",
    "np.random.seed(0)\n",
    "torch.backends.cudnn.benchmark = False\n",
    "torch.backends.cuda.deterministic = True"
   ]
  },
  {
   "cell_type": "markdown",
   "metadata": {},
   "source": [
    "### Model Definition"
   ]
  },
  {
   "cell_type": "code",
   "execution_count": 2,
   "metadata": {},
   "outputs": [],
   "source": [
    "class LeNet(torch.nn.Module):\n",
    "\n",
    "    def __init__(self):\n",
    "        super().__init__()\n",
    "        \n",
    "        ### START YOUR CODE HERE ### (You can change anything inside this block)\n",
    "        num_input_nodes = 32*32\n",
    "        \n",
    "        C_1 = 32\n",
    "        C_2 = 64\n",
    "        C_3 = 128\n",
    "        \n",
    "        num_hidden_nodes = 64\n",
    "        num_classes = 10\n",
    "        \n",
    "        self.classifier = torch.nn.Sequential(\n",
    "            # Layer 1\n",
    "            torch.nn.Conv2d(in_channels=1, out_channels=C_1, kernel_size=5, stride=1, padding=2),\n",
    "            torch.nn.ReLU(),\n",
    "            torch.nn.MaxPool2d(kernel_size=2, stride=2),\n",
    "            \n",
    "            # Layer 2\n",
    "            torch.nn.Conv2d(in_channels=C_1, out_channels=C_2, kernel_size=5, stride=1, padding=2),\n",
    "            torch.nn.ReLU(),\n",
    "            torch.nn.MaxPool2d(kernel_size=2, stride=2),\n",
    "            \n",
    "            # Layer 3\n",
    "            torch.nn.Conv2d(in_channels=C_2, out_channels=C_3, kernel_size=5, stride=1, padding=2),\n",
    "            torch.nn.ReLU(),\n",
    "            torch.nn.MaxPool2d(kernel_size=2, stride=2),\n",
    "            \n",
    "            torch.nn.Flatten(),\n",
    "            \n",
    "            # Layer 4\n",
    "            torch.nn.Linear(4 * 4 * C_3, num_hidden_nodes),\n",
    "            torch.nn.ReLU(),\n",
    "            \n",
    "            # Layer 5\n",
    "            torch.nn.Linear(num_hidden_nodes, num_classes)\n",
    "        )\n",
    "        ### END YOUR CODE HERE ### \n",
    "\n",
    "    def forward(self, x):\n",
    "        ### START YOUR CODE HERE ### (You can change anything inside this block)  \n",
    "        x = self.classifier(x)\n",
    "        return x\n",
    "        ### END YOUR CODE HERE ### \n"
   ]
  },
  {
   "cell_type": "markdown",
   "metadata": {},
   "source": [
    "### Hyperparameters & Loss function"
   ]
  },
  {
   "cell_type": "code",
   "execution_count": 3,
   "metadata": {},
   "outputs": [],
   "source": [
    "# Hyperparameters\n",
    "batch_size = 64\n",
    "learning_rate = 0.0192\n",
    "num_epochs = 10\n",
    "\n",
    "\n",
    "# Use CrossEntropyLoss for multi-class classification\n",
    "loss_function = torch.nn.CrossEntropyLoss()"
   ]
  },
  {
   "cell_type": "markdown",
   "metadata": {},
   "source": [
    "### Train model"
   ]
  },
  {
   "cell_type": "code",
   "execution_count": 4,
   "metadata": {},
   "outputs": [
    {
     "name": "stdout",
     "output_type": "stream",
     "text": [
      "Using downloaded and verified file: data/MNIST/raw/train-images-idx3-ubyte.gz\n",
      "Extracting data/MNIST/raw/train-images-idx3-ubyte.gz to data/MNIST/raw\n",
      "Using downloaded and verified file: data/MNIST/raw/train-labels-idx1-ubyte.gz\n",
      "Extracting data/MNIST/raw/train-labels-idx1-ubyte.gz to data/MNIST/raw\n",
      "Using downloaded and verified file: data/MNIST/raw/t10k-images-idx3-ubyte.gz\n",
      "Extracting data/MNIST/raw/t10k-images-idx3-ubyte.gz to data/MNIST/raw\n",
      "Using downloaded and verified file: data/MNIST/raw/t10k-labels-idx1-ubyte.gz\n",
      "Extracting data/MNIST/raw/t10k-labels-idx1-ubyte.gz to data/MNIST/raw\n",
      "Processing...\n"
     ]
    },
    {
     "name": "stderr",
     "output_type": "stream",
     "text": [
      "\r",
      "Training epoch 0:   0%|          | 0/938 [00:00<?, ?it/s]"
     ]
    },
    {
     "name": "stdout",
     "output_type": "stream",
     "text": [
      "Done!\n"
     ]
    },
    {
     "name": "stderr",
     "output_type": "stream",
     "text": [
      "Training epoch 0: 100%|██████████| 938/938 [04:59<00:00,  3.14it/s]\n",
      "Training epoch 1: 100%|██████████| 938/938 [04:36<00:00,  3.39it/s]\n",
      "Training epoch 2: 100%|██████████| 938/938 [04:53<00:00,  3.19it/s]\n",
      "Training epoch 3: 100%|██████████| 938/938 [04:31<00:00,  3.45it/s]\n",
      "Training epoch 4: 100%|██████████| 938/938 [04:35<00:00,  3.40it/s]\n",
      "Training epoch 5: 100%|██████████| 938/938 [04:57<00:00,  3.15it/s]\n",
      "Training epoch 6: 100%|██████████| 938/938 [04:38<00:00,  3.36it/s]\n",
      "Training epoch 7: 100%|██████████| 938/938 [04:31<00:00,  3.45it/s]\n",
      "Training epoch 8: 100%|██████████| 938/938 [05:28<00:00,  2.86it/s]  \n",
      "Training epoch 9: 100%|██████████| 938/938 [04:52<00:00,  3.21it/s]\n"
     ]
    }
   ],
   "source": [
    "\n",
    "\n",
    "image_transform = torchvision.transforms.Compose([\n",
    "    torchvision.transforms.Resize((32, 32)),\n",
    "    torchvision.transforms.ToTensor(),\n",
    "    torchvision.transforms.Normalize([0.5], [0.25])\n",
    "])\n",
    "dataloader_train, dataloader_val = dataloaders.load_dataset(batch_size, image_transform)\n",
    "\n",
    "# Model definition\n",
    "model = LeNet()\n",
    "# Transfer model to GPU memory (if possible)\n",
    "model = utils.to_cuda(model)\n",
    "\n",
    "# Define optimizer (Stochastic Gradient Descent)\n",
    "optimizer = torch.optim.SGD(model.parameters(),\n",
    "                            lr=learning_rate)\n",
    "trainer = Trainer(\n",
    "  model=model,\n",
    "  dataloader_train=dataloader_train,\n",
    "  dataloader_val=dataloader_val,\n",
    "  batch_size=batch_size,\n",
    "  loss_function=loss_function,\n",
    "  optimizer=optimizer\n",
    ")\n",
    "train_loss_dict, val_loss_dict = trainer.train(num_epochs)"
   ]
  },
  {
   "cell_type": "markdown",
   "metadata": {},
   "source": [
    "### Train Model"
   ]
  },
  {
   "cell_type": "code",
   "execution_count": 5,
   "metadata": {},
   "outputs": [
    {
     "data": {
      "image/png": "[encoded data removed]",
      "text/plain": [
       "<Figure size 432x288 with 1 Axes>"
      ]
     },
     "metadata": {
      "needs_background": "light"
     },
     "output_type": "display_data"
    }
   ],
   "source": [
    "# Save data\n",
    "\n",
    "# Load data\n",
    "#train_loss_dict = np.load('task2b_train_loss.npy').item()\n",
    "#val_loss_dict = np.load('task2b_val_loss.npy').item()\n",
    "\n",
    "utils.plot_loss(train_loss_dict, label=\"Train Loss\")\n",
    "utils.plot_loss(val_loss_dict, label=\"Test Loss\")\n",
    "# Limit the y-axis of the plot (The range should not be increased!)\n",
    "plt.ylim([0, .4])\n",
    "plt.legend()\n",
    "plt.xlabel(\"Global Training Step\")\n",
    "plt.ylabel(\"Cross Entropy Loss\")\n",
    "os.makedirs(\"image_processed\", exist_ok=True)\n",
    "plt.savefig(os.path.join(\"plots\", \"task2c.png\"))\n",
    "\n",
    "plt.show()\n",
    "\n",
    "torch.save(model.state_dict(), \"saved_model.torch\")\n"
   ]
  },
  {
   "cell_type": "code",
   "execution_count": 6,
   "metadata": {},
   "outputs": [
    {
     "name": "stdout",
     "output_type": "stream",
     "text": [
      "Final Validation loss: 0.021152382747227624. Final Validation accuracy: 0.9928\n"
     ]
    }
   ],
   "source": [
    "\n",
    "# %%\n",
    "final_loss, final_acc = utils.compute_loss_and_accuracy(\n",
    "    dataloader_val, model, loss_function)\n",
    "print(f\"Final Validation loss: {final_loss}. Final Validation accuracy: {final_acc}\")\n",
    "\n",
    "# %%"
   ]
  }
 ],
 "metadata": {
  "anaconda-cloud": {},
  "kernelspec": {
   "display_name": "Python (tdt4195)",
   "language": "python",
   "name": "tdt4195"
  },
  "language_info": {
   "codemirror_mode": {
    "name": "ipython",
    "version": 3
   },
   "file_extension": ".py",
   "mimetype": "text/x-python",
   "name": "python",
   "nbconvert_exporter": "python",
   "pygments_lexer": "ipython3",
   "version": "3.6.9"
  }
 },
 "nbformat": 4,
 "nbformat_minor": 1
}
